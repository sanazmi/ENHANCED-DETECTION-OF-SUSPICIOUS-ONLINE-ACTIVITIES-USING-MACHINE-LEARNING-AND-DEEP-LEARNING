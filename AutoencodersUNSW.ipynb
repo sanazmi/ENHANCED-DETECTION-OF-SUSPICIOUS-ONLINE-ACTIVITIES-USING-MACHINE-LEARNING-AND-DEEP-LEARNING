{
  "nbformat": 4,
  "nbformat_minor": 0,
  "metadata": {
    "colab": {
      "provenance": []
    },
    "kernelspec": {
      "name": "python3",
      "display_name": "Python 3"
    },
    "language_info": {
      "name": "python"
    }
  },
  "cells": [
    {
      "cell_type": "code",
      "execution_count": null,
      "metadata": {
        "id": "MK6DGTypjTHD"
      },
      "outputs": [],
      "source": [
        "import numpy as np\n",
        "import pandas as pd\n",
        "from sklearn.preprocessing import StandardScaler\n",
        "from sklearn.metrics import classification_report, confusion_matrix\n",
        "import tensorflow as tf\n",
        "from tensorflow.keras.models import Model\n",
        "from tensorflow.keras.layers import Dense, Input\n",
        "import matplotlib.pyplot as plt\n",
        "import seaborn as sns"
      ]
    },
    {
      "cell_type": "code",
      "source": [
        "# Load training and testing data\n",
        "train_data = pd.read_csv('/content/UNSW_NB15_training-set.csv')\n",
        "test_data = pd.read_csv('/content/UNSW_NB15_testing-set.csv')\n"
      ],
      "metadata": {
        "id": "BSDB5jTvja90"
      },
      "execution_count": null,
      "outputs": []
    },
    {
      "cell_type": "code",
      "source": [
        "# Separate features and labels\n",
        "X_train = train_data.drop('label', axis=1)\n",
        "y_train = train_data['label']\n",
        "X_test = test_data.drop('label', axis=1)\n",
        "y_test = test_data['label']\n"
      ],
      "metadata": {
        "id": "ZMUdqbrbjivk"
      },
      "execution_count": null,
      "outputs": []
    },
    {
      "cell_type": "code",
      "source": [
        "from sklearn.preprocessing import LabelEncoder, StandardScaler\n",
        "import numpy as np\n",
        "\n",
        "# Identify categorical columns in your data\n",
        "categorical_cols = ['proto', 'service', 'state', 'attack_cat']  # Adjust based on actual categorical columns\n",
        "\n",
        "# Encode categorical columns in both train and test sets\n",
        "for col in categorical_cols:\n",
        "    le = LabelEncoder()\n",
        "\n",
        "    # Fit on the training data and transform both training and test data\n",
        "    X_train[col] = le.fit_transform(X_train[col])\n",
        "\n",
        "    # For test data, map labels that were not seen during training to a default value (-1)\n",
        "    X_test[col] = X_test[col].apply(lambda x: le.transform([x])[0] if x in le.classes_ else -1)\n",
        "\n",
        "# Now that all data is numeric, we can proceed with standardization\n",
        "scaler = StandardScaler()\n",
        "X_train_scaled = scaler.fit_transform(X_train)\n",
        "X_test_scaled = scaler.transform(X_test)\n"
      ],
      "metadata": {
        "id": "MggO_zbNjpeY"
      },
      "execution_count": null,
      "outputs": []
    },
    {
      "cell_type": "code",
      "source": [
        "# Use only normal (non-malicious) data to train the autoencoder\n",
        "X_train_normal = X_train_scaled[y_train == 0]"
      ],
      "metadata": {
        "id": "1v-YGaP1khLZ"
      },
      "execution_count": null,
      "outputs": []
    },
    {
      "cell_type": "code",
      "source": [
        "# Build the autoencoder model\n",
        "input_dim = X_train_normal.shape[1]\n",
        "encoding_dim = 14  # Adjust based on your data"
      ],
      "metadata": {
        "id": "5y6vOkX8knm5"
      },
      "execution_count": null,
      "outputs": []
    },
    {
      "cell_type": "code",
      "source": [
        "# Encoder\n",
        "input_layer = Input(shape=(input_dim,))\n",
        "encoder = Dense(encoding_dim, activation='relu')(input_layer)\n",
        "encoder = Dense(7, activation='relu')(encoder)"
      ],
      "metadata": {
        "id": "kQIDMT-mkw_z"
      },
      "execution_count": null,
      "outputs": []
    },
    {
      "cell_type": "code",
      "source": [
        "# Decoder\n",
        "decoder = Dense(encoding_dim, activation='relu')(encoder)\n",
        "decoder = Dense(input_dim, activation='sigmoid')(decoder)"
      ],
      "metadata": {
        "id": "8kFkzIpzk1h_"
      },
      "execution_count": null,
      "outputs": []
    },
    {
      "cell_type": "code",
      "source": [
        "# Autoencoder Model\n",
        "autoencoder = Model(inputs=input_layer, outputs=decoder)\n",
        "autoencoder.compile(optimizer='adam', loss='mse')\n"
      ],
      "metadata": {
        "id": "YUeNAUS4k37R"
      },
      "execution_count": null,
      "outputs": []
    },
    {
      "cell_type": "code",
      "source": [
        "# Train the Autoencoder\n",
        "history = autoencoder.fit(X_train_normal, X_train_normal,\n",
        "                          epochs=10,\n",
        "                          batch_size=32,\n",
        "                          validation_split=0.2)\n"
      ],
      "metadata": {
        "colab": {
          "base_uri": "https://localhost:8080/"
        },
        "id": "XypdG0Edk6a5",
        "outputId": "b2350c5a-a56a-4db2-9f72-eb22b0f65b28"
      },
      "execution_count": null,
      "outputs": [
        {
          "output_type": "stream",
          "name": "stdout",
          "text": [
            "Epoch 1/10\n",
            "\u001b[1m925/925\u001b[0m \u001b[32m━━━━━━━━━━━━━━━━━━━━\u001b[0m\u001b[37m\u001b[0m \u001b[1m4s\u001b[0m 2ms/step - loss: 0.9125 - val_loss: 0.8602\n",
            "Epoch 2/10\n",
            "\u001b[1m925/925\u001b[0m \u001b[32m━━━━━━━━━━━━━━━━━━━━\u001b[0m\u001b[37m\u001b[0m \u001b[1m2s\u001b[0m 2ms/step - loss: 0.6683 - val_loss: 0.8453\n",
            "Epoch 3/10\n",
            "\u001b[1m925/925\u001b[0m \u001b[32m━━━━━━━━━━━━━━━━━━━━\u001b[0m\u001b[37m\u001b[0m \u001b[1m2s\u001b[0m 2ms/step - loss: 0.6522 - val_loss: 0.8441\n",
            "Epoch 4/10\n",
            "\u001b[1m925/925\u001b[0m \u001b[32m━━━━━━━━━━━━━━━━━━━━\u001b[0m\u001b[37m\u001b[0m \u001b[1m3s\u001b[0m 2ms/step - loss: 0.6573 - val_loss: 0.8402\n",
            "Epoch 5/10\n",
            "\u001b[1m925/925\u001b[0m \u001b[32m━━━━━━━━━━━━━━━━━━━━\u001b[0m\u001b[37m\u001b[0m \u001b[1m3s\u001b[0m 2ms/step - loss: 0.6389 - val_loss: 0.8394\n",
            "Epoch 6/10\n",
            "\u001b[1m925/925\u001b[0m \u001b[32m━━━━━━━━━━━━━━━━━━━━\u001b[0m\u001b[37m\u001b[0m \u001b[1m3s\u001b[0m 3ms/step - loss: 0.6397 - val_loss: 0.8336\n",
            "Epoch 7/10\n",
            "\u001b[1m925/925\u001b[0m \u001b[32m━━━━━━━━━━━━━━━━━━━━\u001b[0m\u001b[37m\u001b[0m \u001b[1m2s\u001b[0m 2ms/step - loss: 0.6548 - val_loss: 0.8330\n",
            "Epoch 8/10\n",
            "\u001b[1m925/925\u001b[0m \u001b[32m━━━━━━━━━━━━━━━━━━━━\u001b[0m\u001b[37m\u001b[0m \u001b[1m3s\u001b[0m 2ms/step - loss: 0.6233 - val_loss: 0.8325\n",
            "Epoch 9/10\n",
            "\u001b[1m925/925\u001b[0m \u001b[32m━━━━━━━━━━━━━━━━━━━━\u001b[0m\u001b[37m\u001b[0m \u001b[1m3s\u001b[0m 2ms/step - loss: 0.6593 - val_loss: 0.8320\n",
            "Epoch 10/10\n",
            "\u001b[1m925/925\u001b[0m \u001b[32m━━━━━━━━━━━━━━━━━━━━\u001b[0m\u001b[37m\u001b[0m \u001b[1m2s\u001b[0m 2ms/step - loss: 0.6410 - val_loss: 0.8318\n"
          ]
        }
      ]
    },
    {
      "cell_type": "code",
      "source": [
        "# Plot training history\n",
        "plt.plot(history.history['loss'], label='Training Loss')\n",
        "plt.plot(history.history['val_loss'], label='Validation Loss')\n",
        "plt.xlabel('Epochs')\n",
        "plt.ylabel('Loss')\n",
        "plt.legend()\n",
        "plt.show()"
      ],
      "metadata": {
        "colab": {
          "base_uri": "https://localhost:8080/",
          "height": 449
        },
        "id": "Sj6B8Y1Lk-FW",
        "outputId": "b1f94e5d-d1dc-432b-90fb-609e169574dd"
      },
      "execution_count": null,
      "outputs": [
        {
          "output_type": "display_data",
          "data": {
            "text/plain": [
              "<Figure size 640x480 with 1 Axes>"
            ],
            "image/png": "[encoded data removed]"
          },
          "metadata": {}
        }
      ]
    },
    {
      "cell_type": "code",
      "source": [
        "# Reconstruction error on training set to determine threshold\n",
        "X_train_predictions = autoencoder.predict(X_train)\n",
        "train_reconstruction_errors = np.mean(np.square(X_train - X_train_predictions), axis=1)\n"
      ],
      "metadata": {
        "colab": {
          "base_uri": "https://localhost:8080/"
        },
        "id": "CvOqsFhJlV35",
        "outputId": "8b5495d2-bed9-4254-9293-d14de33d2e9b"
      },
      "execution_count": null,
      "outputs": [
        {
          "output_type": "stream",
          "name": "stdout",
          "text": [
            "\u001b[1m2573/2573\u001b[0m \u001b[32m━━━━━━━━━━━━━━━━━━━━\u001b[0m\u001b[37m\u001b[0m \u001b[1m4s\u001b[0m 2ms/step\n"
          ]
        }
      ]
    },
    {
      "cell_type": "code",
      "source": [
        "# Set the threshold for anomaly detection based on training reconstruction error\n",
        "threshold = np.percentile(train_reconstruction_errors, 95)  # 95th percentile as an example\n"
      ],
      "metadata": {
        "id": "e_5isltrlXU-"
      },
      "execution_count": null,
      "outputs": []
    },
    {
      "cell_type": "code",
      "source": [
        "# Calculate reconstruction error on test set\n",
        "X_test_predictions = autoencoder.predict(X_test)\n",
        "test_reconstruction_errors = np.mean(np.square(X_test - X_test_predictions), axis=1)\n",
        "\n",
        "# Use threshold to classify anomalies\n",
        "y_pred = (test_reconstruction_errors > threshold).astype(int)\n"
      ],
      "metadata": {
        "colab": {
          "base_uri": "https://localhost:8080/"
        },
        "id": "UzlIfH04ldwP",
        "outputId": "cdd2ae7f-70a5-4d50-c4a0-f09e73fcb49b"
      },
      "execution_count": null,
      "outputs": [
        {
          "output_type": "stream",
          "name": "stdout",
          "text": [
            "\u001b[1m5480/5480\u001b[0m \u001b[32m━━━━━━━━━━━━━━━━━━━━\u001b[0m\u001b[37m\u001b[0m \u001b[1m7s\u001b[0m 1ms/step\n"
          ]
        }
      ]
    },
    {
      "cell_type": "code",
      "source": [
        "# Calculate accuracy\n",
        "accuracy = np.mean(y_pred == y_test)\n",
        "print(\"Accuracy:\", accuracy)\n",
        "\n"
      ],
      "metadata": {
        "colab": {
          "base_uri": "https://localhost:8080/"
        },
        "id": "Ex1znfm0lgmP",
        "outputId": "3a18a7ba-e11a-46a0-8e29-652d7eb0b595"
      },
      "execution_count": null,
      "outputs": [
        {
          "output_type": "stream",
          "name": "stdout",
          "text": [
            "Accuracy: 0.319725563330881\n"
          ]
        }
      ]
    },
    {
      "cell_type": "code",
      "source": [
        "# Evaluation\n",
        "print(\"Classification Report:\")\n",
        "print(classification_report(y_test, y_pred))\n",
        "\n"
      ],
      "metadata": {
        "colab": {
          "base_uri": "https://localhost:8080/"
        },
        "id": "lDS22mYDliwv",
        "outputId": "75ac895d-6c5b-41c2-e90d-fdb60fe756a1"
      },
      "execution_count": null,
      "outputs": [
        {
          "output_type": "stream",
          "name": "stdout",
          "text": [
            "Classification Report:\n",
            "              precision    recall  f1-score   support\n",
            "\n",
            "           0       0.31      0.93      0.47     56000\n",
            "           1       0.50      0.03      0.06    119341\n",
            "\n",
            "    accuracy                           0.32    175341\n",
            "   macro avg       0.41      0.48      0.26    175341\n",
            "weighted avg       0.44      0.32      0.19    175341\n",
            "\n"
          ]
        }
      ]
    },
    {
      "cell_type": "code",
      "source": [
        "# Confusion Matrix\n",
        "print(\"Confusion Matrix:\")\n",
        "print(confusion_matrix(y_test, y_pred))"
      ],
      "metadata": {
        "colab": {
          "base_uri": "https://localhost:8080/"
        },
        "id": "5-CCyKZBllTd",
        "outputId": "7bf93843-962b-4ac2-b6ce-45971d88a2d5"
      },
      "execution_count": null,
      "outputs": [
        {
          "output_type": "stream",
          "name": "stdout",
          "text": [
            "Confusion Matrix:\n",
            "[[ 52014   3986]\n",
            " [115294   4047]]\n"
          ]
        }
      ]
    },
    {
      "cell_type": "code",
      "source": [
        "# Visualize reconstruction error distribution with threshold line\n",
        "sns.histplot(test_reconstruction_errors, bins=50, kde=True)\n",
        "plt.axvline(threshold, color='red', linestyle='--', label='Threshold')\n",
        "plt.xlabel(\"Reconstruction Error\")\n",
        "plt.legend()\n",
        "plt.show()"
      ],
      "metadata": {
        "colab": {
          "base_uri": "https://localhost:8080/",
          "height": 449
        },
        "id": "3ayskhX9lnEt",
        "outputId": "edcf539c-dcac-4dd3-b042-52f35e4e5d78"
      },
      "execution_count": null,
      "outputs": [
        {
          "output_type": "display_data",
          "data": {
            "text/plain": [
              "<Figure size 640x480 with 1 Axes>"
            ],
            "image/png": "[encoded data removed]"
          },
          "metadata": {}
        }
      ]
    }
  ]
}