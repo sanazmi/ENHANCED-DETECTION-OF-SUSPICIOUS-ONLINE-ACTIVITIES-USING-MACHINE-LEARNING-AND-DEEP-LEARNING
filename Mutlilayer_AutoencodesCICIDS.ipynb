{
  "nbformat": 4,
  "nbformat_minor": 0,
  "metadata": {
    "colab": {
      "provenance": []
    },
    "kernelspec": {
      "name": "python3",
      "display_name": "Python 3"
    },
    "language_info": {
      "name": "python"
    }
  },
  "cells": [
    {
      "cell_type": "code",
      "execution_count": null,
      "metadata": {
        "id": "JSpYH-lCb4gK"
      },
      "outputs": [],
      "source": [
        "import numpy as np\n",
        "import pandas as pd\n",
        "from sklearn.model_selection import train_test_split\n",
        "from sklearn.preprocessing import StandardScaler, LabelEncoder\n",
        "from sklearn.metrics import classification_report, confusion_matrix, accuracy_score\n",
        "import tensorflow as tf\n",
        "from tensorflow.keras.models import Model, Sequential\n",
        "from tensorflow.keras.layers import Dense, Input\n",
        "import matplotlib.pyplot as plt\n",
        "import seaborn as sns"
      ]
    },
    {
      "cell_type": "code",
      "source": [
        "# Load and prepare the data\n",
        "data = pd.read_csv('/content/CICIDS.csv')"
      ],
      "metadata": {
        "id": "B9qrGnUenp5k"
      },
      "execution_count": null,
      "outputs": []
    },
    {
      "cell_type": "code",
      "source": [
        "print(data.head())"
      ],
      "metadata": {
        "colab": {
          "base_uri": "https://localhost:8080/"
        },
        "id": "cAwwnSQon_f1",
        "outputId": "141ea222-14a9-4a63-bb24-098d7b1058ca"
      },
      "execution_count": null,
      "outputs": [
        {
          "output_type": "stream",
          "name": "stdout",
          "text": [
            "    Destination Port   Flow Duration   Total Fwd Packets  \\\n",
            "0               3268       112740690                  32   \n",
            "1                389       112740560                  32   \n",
            "2                  0       113757377                 545   \n",
            "3               5355          100126                  22   \n",
            "4                  0           54760                   4   \n",
            "\n",
            "    Total Backward Packets  Total Length of Fwd Packets  \\\n",
            "0                       16                         6448   \n",
            "1                       16                         6448   \n",
            "2                        0                            0   \n",
            "3                        0                          616   \n",
            "4                        0                            0   \n",
            "\n",
            "    Total Length of Bwd Packets   Fwd Packet Length Max  \\\n",
            "0                          1152                     403   \n",
            "1                          5056                     403   \n",
            "2                             0                       0   \n",
            "3                             0                      28   \n",
            "4                             0                       0   \n",
            "\n",
            "    Fwd Packet Length Min   Fwd Packet Length Mean   Fwd Packet Length Std  \\\n",
            "0                       0                    201.5              204.724205   \n",
            "1                       0                    201.5              204.724205   \n",
            "2                       0                      0.0                0.000000   \n",
            "3                      28                     28.0                0.000000   \n",
            "4                       0                      0.0                0.000000   \n",
            "\n",
            "   ...   min_seg_size_forward   Active Mean    Active Std   Active Max  \\\n",
            "0  ...                   32.0  3.594286e+02  1.199802e+01        380.0   \n",
            "1  ...                   32.0  3.202857e+02  1.574499e+01        330.0   \n",
            "2  ...                    0.0  9.361829e+06  7.324646e+06   18900000.0   \n",
            "3  ...                   32.0  0.000000e+00  0.000000e+00          0.0   \n",
            "4  ...                    0.0  0.000000e+00  0.000000e+00          0.0   \n",
            "\n",
            "    Active Min   Idle Mean      Idle Std    Idle Max    Idle Min   Label  \n",
            "0        343.0  16100000.0  4.988048e+05  16400000.0  15400000.0  BENIGN  \n",
            "1        285.0  16100000.0  4.987937e+05  16400000.0  15400000.0  BENIGN  \n",
            "2         19.0  12200000.0  6.935824e+06  20800000.0   5504997.0  BENIGN  \n",
            "3          0.0         0.0  0.000000e+00         0.0         0.0  BENIGN  \n",
            "4          0.0         0.0  0.000000e+00         0.0         0.0  BENIGN  \n",
            "\n",
            "[5 rows x 79 columns]\n"
          ]
        }
      ]
    },
    {
      "cell_type": "code",
      "source": [
        "print(data.tail())"
      ],
      "metadata": {
        "colab": {
          "base_uri": "https://localhost:8080/"
        },
        "id": "Eb-093GAoATn",
        "outputId": "3f2bc950-cf02-48be-ac99-2f39ab6492e3"
      },
      "execution_count": null,
      "outputs": [
        {
          "output_type": "stream",
          "name": "stdout",
          "text": [
            "         Destination Port   Flow Duration   Total Fwd Packets  \\\n",
            "171676                 53             251                   2   \n",
            "171677                443        61331969                  13   \n",
            "171678                 53           60079                   2   \n",
            "171679                 53           23754                   2   \n",
            "171680                443        39963092                  13   \n",
            "\n",
            "         Total Backward Packets  Total Length of Fwd Packets  \\\n",
            "171676                        2                           60   \n",
            "171677                       15                         3594   \n",
            "171678                        2                           68   \n",
            "171679                        2                           70   \n",
            "171680                       14                         3610   \n",
            "\n",
            "         Total Length of Bwd Packets   Fwd Packet Length Max  \\\n",
            "171676                           344                      30   \n",
            "171677                          4405                    2896   \n",
            "171678                           250                      34   \n",
            "171679                           188                      35   \n",
            "171680                          4405                    2896   \n",
            "\n",
            "         Fwd Packet Length Min   Fwd Packet Length Mean  \\\n",
            "171676                      30                30.000000   \n",
            "171677                       0               276.461539   \n",
            "171678                      34                34.000000   \n",
            "171679                      35                35.000000   \n",
            "171680                       0               277.692308   \n",
            "\n",
            "         Fwd Packet Length Std  ...   min_seg_size_forward  Active Mean  \\\n",
            "171676                0.000000  ...                   20.0      0.00000   \n",
            "171677              794.648519  ...                   32.0  61134.83333   \n",
            "171678                0.000000  ...                   40.0      0.00000   \n",
            "171679                0.000000  ...                   20.0      0.00000   \n",
            "171680              794.420164  ...                    NaN          NaN   \n",
            "\n",
            "         Active Std   Active Max   Active Min   Idle Mean     Idle Std  \\\n",
            "171676      0.00000          0.0          0.0         0.0      0.00000   \n",
            "171677  77751.33001     219844.0      29304.0  10200000.0  77593.96328   \n",
            "171678      0.00000          0.0          0.0         0.0      0.00000   \n",
            "171679      0.00000          0.0          0.0         0.0      0.00000   \n",
            "171680          NaN          NaN          NaN         NaN          NaN   \n",
            "\n",
            "          Idle Max    Idle Min   Label  \n",
            "171676         0.0         0.0  BENIGN  \n",
            "171677  10200000.0  10000000.0  BENIGN  \n",
            "171678         0.0         0.0  BENIGN  \n",
            "171679         0.0         0.0  BENIGN  \n",
            "171680         NaN         NaN     NaN  \n",
            "\n",
            "[5 rows x 79 columns]\n"
          ]
        }
      ]
    },
    {
      "cell_type": "code",
      "source": [
        "print(data.describe())"
      ],
      "metadata": {
        "colab": {
          "base_uri": "https://localhost:8080/"
        },
        "id": "TOf07ql1oAWU",
        "outputId": "c2c53da1-1a33-48c8-b94c-b2e9732ae2f6"
      },
      "execution_count": null,
      "outputs": [
        {
          "output_type": "stream",
          "name": "stdout",
          "text": [
            "        Destination Port   Flow Duration   Total Fwd Packets  \\\n",
            "count      171681.000000    1.716810e+05       171681.000000   \n",
            "mean         6710.091653    1.180314e+07           14.610487   \n",
            "std         16652.909653    3.088132e+07         1157.923268   \n",
            "min             0.000000   -1.200000e+01            1.000000   \n",
            "25%            53.000000    1.980000e+02            2.000000   \n",
            "50%            80.000000    3.121100e+04            2.000000   \n",
            "75%           443.000000    3.937960e+05            4.000000   \n",
            "max         64948.000000    1.200000e+08       207964.000000   \n",
            "\n",
            "        Total Backward Packets  Total Length of Fwd Packets  \\\n",
            "count            171681.000000                 1.716810e+05   \n",
            "mean                 17.505548                 6.058054e+02   \n",
            "std                1560.901978                 8.331606e+03   \n",
            "min                   0.000000                 0.000000e+00   \n",
            "25%                   1.000000                 4.100000e+01   \n",
            "50%                   2.000000                 7.000000e+01   \n",
            "75%                   2.000000                 1.500000e+02   \n",
            "max              284602.000000                 1.235152e+06   \n",
            "\n",
            "        Total Length of Bwd Packets   Fwd Packet Length Max  \\\n",
            "count                  1.716810e+05           171681.000000   \n",
            "mean                   3.092844e+04              173.203942   \n",
            "std                    3.496255e+06              562.680423   \n",
            "min                    0.000000e+00                0.000000   \n",
            "25%                    6.000000e+00               30.000000   \n",
            "50%                    1.540000e+02               42.000000   \n",
            "75%                    3.480000e+02               64.000000   \n",
            "max                    6.270000e+08            24820.000000   \n",
            "\n",
            "        Fwd Packet Length Min   Fwd Packet Length Mean  \\\n",
            "count           171681.000000            171681.000000   \n",
            "mean                23.855447                51.432044   \n",
            "std                 40.749074               118.020784   \n",
            "min                  0.000000                 0.000000   \n",
            "25%                  0.000000                17.294118   \n",
            "50%                 23.000000                38.000000   \n",
            "75%                 42.000000                51.000000   \n",
            "max               2325.000000              5940.857143   \n",
            "\n",
            "        Fwd Packet Length Std  ...   act_data_pkt_fwd   min_seg_size_forward  \\\n",
            "count           171681.000000  ...      171680.000000          171680.000000   \n",
            "mean                49.512992  ...          11.022222              25.575495   \n",
            "std                160.133811  ...        1103.393849               6.385303   \n",
            "min                  0.000000  ...           0.000000               0.000000   \n",
            "25%                  0.000000  ...           0.000000              20.000000   \n",
            "50%                  0.000000  ...           1.000000              20.000000   \n",
            "75%                 20.124612  ...           2.000000              32.000000   \n",
            "max               7049.469004  ...      198636.000000              56.000000   \n",
            "\n",
            "        Active Mean    Active Std    Active Max    Active Min     Idle Mean  \\\n",
            "count  1.716800e+05  1.716800e+05  1.716800e+05  1.716800e+05  1.716800e+05   \n",
            "mean   8.718497e+04  5.362288e+04  1.839595e+05  5.721664e+04  4.040512e+06   \n",
            "std    9.020794e+05  5.041184e+05  1.366420e+06  7.945815e+05  1.420799e+07   \n",
            "min    0.000000e+00  0.000000e+00  0.000000e+00  0.000000e+00  0.000000e+00   \n",
            "25%    0.000000e+00  0.000000e+00  0.000000e+00  0.000000e+00  0.000000e+00   \n",
            "50%    0.000000e+00  0.000000e+00  0.000000e+00  0.000000e+00  0.000000e+00   \n",
            "75%    0.000000e+00  0.000000e+00  0.000000e+00  0.000000e+00  0.000000e+00   \n",
            "max    1.060000e+08  5.040000e+07  1.060000e+08  1.060000e+08  1.200000e+08   \n",
            "\n",
            "           Idle Std      Idle Max      Idle Min  \n",
            "count  1.716800e+05  1.716800e+05  1.716800e+05  \n",
            "mean   1.739917e+05  4.170482e+06  3.871898e+06  \n",
            "std    2.171938e+06  1.455887e+07  1.403537e+07  \n",
            "min    0.000000e+00  0.000000e+00  0.000000e+00  \n",
            "25%    0.000000e+00  0.000000e+00  0.000000e+00  \n",
            "50%    0.000000e+00  0.000000e+00  0.000000e+00  \n",
            "75%    0.000000e+00  0.000000e+00  0.000000e+00  \n",
            "max    7.420000e+07  1.200000e+08  1.200000e+08  \n",
            "\n",
            "[8 rows x 78 columns]\n"
          ]
        }
      ]
    },
    {
      "cell_type": "code",
      "source": [
        "print(data.info())"
      ],
      "metadata": {
        "colab": {
          "base_uri": "https://localhost:8080/"
        },
        "id": "MMwm6P2QoAZ0",
        "outputId": "c5c3a16f-552d-422b-b555-d6bfa6977fd2"
      },
      "execution_count": null,
      "outputs": [
        {
          "output_type": "stream",
          "name": "stdout",
          "text": [
            "<class 'pandas.core.frame.DataFrame'>\n",
            "RangeIndex: 171681 entries, 0 to 171680\n",
            "Data columns (total 79 columns):\n",
            " #   Column                        Non-Null Count   Dtype  \n",
            "---  ------                        --------------   -----  \n",
            " 0    Destination Port             171681 non-null  int64  \n",
            " 1    Flow Duration                171681 non-null  int64  \n",
            " 2    Total Fwd Packets            171681 non-null  int64  \n",
            " 3    Total Backward Packets       171681 non-null  int64  \n",
            " 4   Total Length of Fwd Packets   171681 non-null  int64  \n",
            " 5    Total Length of Bwd Packets  171681 non-null  int64  \n",
            " 6    Fwd Packet Length Max        171681 non-null  int64  \n",
            " 7    Fwd Packet Length Min        171681 non-null  int64  \n",
            " 8    Fwd Packet Length Mean       171681 non-null  float64\n",
            " 9    Fwd Packet Length Std        171681 non-null  float64\n",
            " 10  Bwd Packet Length Max         171681 non-null  int64  \n",
            " 11   Bwd Packet Length Min        171681 non-null  int64  \n",
            " 12   Bwd Packet Length Mean       171681 non-null  float64\n",
            " 13   Bwd Packet Length Std        171681 non-null  float64\n",
            " 14  Flow Bytes/s                  171656 non-null  float64\n",
            " 15   Flow Packets/s               171681 non-null  float64\n",
            " 16   Flow IAT Mean                171681 non-null  float64\n",
            " 17   Flow IAT Std                 171681 non-null  float64\n",
            " 18   Flow IAT Max                 171681 non-null  int64  \n",
            " 19   Flow IAT Min                 171681 non-null  int64  \n",
            " 20  Fwd IAT Total                 171681 non-null  int64  \n",
            " 21   Fwd IAT Mean                 171681 non-null  float64\n",
            " 22   Fwd IAT Std                  171681 non-null  float64\n",
            " 23   Fwd IAT Max                  171681 non-null  int64  \n",
            " 24   Fwd IAT Min                  171681 non-null  int64  \n",
            " 25  Bwd IAT Total                 171681 non-null  int64  \n",
            " 26   Bwd IAT Mean                 171681 non-null  float64\n",
            " 27   Bwd IAT Std                  171681 non-null  float64\n",
            " 28   Bwd IAT Max                  171680 non-null  float64\n",
            " 29   Bwd IAT Min                  171680 non-null  float64\n",
            " 30  Fwd PSH Flags                 171680 non-null  float64\n",
            " 31   Bwd PSH Flags                171680 non-null  float64\n",
            " 32   Fwd URG Flags                171680 non-null  float64\n",
            " 33   Bwd URG Flags                171680 non-null  float64\n",
            " 34   Fwd Header Length            171680 non-null  float64\n",
            " 35   Bwd Header Length            171680 non-null  float64\n",
            " 36  Fwd Packets/s                 171680 non-null  float64\n",
            " 37   Bwd Packets/s                171680 non-null  float64\n",
            " 38   Min Packet Length            171680 non-null  float64\n",
            " 39   Max Packet Length            171680 non-null  float64\n",
            " 40   Packet Length Mean           171680 non-null  float64\n",
            " 41   Packet Length Std            171680 non-null  float64\n",
            " 42   Packet Length Variance       171680 non-null  float64\n",
            " 43  FIN Flag Count                171680 non-null  float64\n",
            " 44   SYN Flag Count               171680 non-null  float64\n",
            " 45   RST Flag Count               171680 non-null  float64\n",
            " 46   PSH Flag Count               171680 non-null  float64\n",
            " 47   ACK Flag Count               171680 non-null  float64\n",
            " 48   URG Flag Count               171680 non-null  float64\n",
            " 49   CWE Flag Count               171680 non-null  float64\n",
            " 50   ECE Flag Count               171680 non-null  float64\n",
            " 51   Down/Up Ratio                171680 non-null  float64\n",
            " 52   Average Packet Size          171680 non-null  float64\n",
            " 53   Avg Fwd Segment Size         171680 non-null  float64\n",
            " 54   Avg Bwd Segment Size         171680 non-null  float64\n",
            " 55   Fwd Header Length.1          171680 non-null  float64\n",
            " 56  Fwd Avg Bytes/Bulk            171680 non-null  float64\n",
            " 57   Fwd Avg Packets/Bulk         171680 non-null  float64\n",
            " 58   Fwd Avg Bulk Rate            171680 non-null  float64\n",
            " 59   Bwd Avg Bytes/Bulk           171680 non-null  float64\n",
            " 60   Bwd Avg Packets/Bulk         171680 non-null  float64\n",
            " 61  Bwd Avg Bulk Rate             171680 non-null  float64\n",
            " 62  Subflow Fwd Packets           171680 non-null  float64\n",
            " 63   Subflow Fwd Bytes            171680 non-null  float64\n",
            " 64   Subflow Bwd Packets          171680 non-null  float64\n",
            " 65   Subflow Bwd Bytes            171680 non-null  float64\n",
            " 66  Init_Win_bytes_forward        171680 non-null  float64\n",
            " 67   Init_Win_bytes_backward      171680 non-null  float64\n",
            " 68   act_data_pkt_fwd             171680 non-null  float64\n",
            " 69   min_seg_size_forward         171680 non-null  float64\n",
            " 70  Active Mean                   171680 non-null  float64\n",
            " 71   Active Std                   171680 non-null  float64\n",
            " 72   Active Max                   171680 non-null  float64\n",
            " 73   Active Min                   171680 non-null  float64\n",
            " 74  Idle Mean                     171680 non-null  float64\n",
            " 75   Idle Std                     171680 non-null  float64\n",
            " 76   Idle Max                     171680 non-null  float64\n",
            " 77   Idle Min                     171680 non-null  float64\n",
            " 78   Label                        171680 non-null  object \n",
            "dtypes: float64(62), int64(16), object(1)\n",
            "memory usage: 103.5+ MB\n",
            "None\n"
          ]
        }
      ]
    },
    {
      "cell_type": "code",
      "source": [
        "print(data.columns.tolist())\n"
      ],
      "metadata": {
        "colab": {
          "base_uri": "https://localhost:8080/"
        },
        "id": "66aPfVwRpFUh",
        "outputId": "c22e03c1-b1c9-4540-8345-be8386221b32"
      },
      "execution_count": null,
      "outputs": [
        {
          "output_type": "stream",
          "name": "stdout",
          "text": [
            "[' Destination Port', ' Flow Duration', ' Total Fwd Packets', ' Total Backward Packets', 'Total Length of Fwd Packets', ' Total Length of Bwd Packets', ' Fwd Packet Length Max', ' Fwd Packet Length Min', ' Fwd Packet Length Mean', ' Fwd Packet Length Std', 'Bwd Packet Length Max', ' Bwd Packet Length Min', ' Bwd Packet Length Mean', ' Bwd Packet Length Std', 'Flow Bytes/s', ' Flow Packets/s', ' Flow IAT Mean', ' Flow IAT Std', ' Flow IAT Max', ' Flow IAT Min', 'Fwd IAT Total', ' Fwd IAT Mean', ' Fwd IAT Std', ' Fwd IAT Max', ' Fwd IAT Min', 'Bwd IAT Total', ' Bwd IAT Mean', ' Bwd IAT Std', ' Bwd IAT Max', ' Bwd IAT Min', 'Fwd PSH Flags', ' Bwd PSH Flags', ' Fwd URG Flags', ' Bwd URG Flags', ' Fwd Header Length', ' Bwd Header Length', 'Fwd Packets/s', ' Bwd Packets/s', ' Min Packet Length', ' Max Packet Length', ' Packet Length Mean', ' Packet Length Std', ' Packet Length Variance', 'FIN Flag Count', ' SYN Flag Count', ' RST Flag Count', ' PSH Flag Count', ' ACK Flag Count', ' URG Flag Count', ' CWE Flag Count', ' ECE Flag Count', ' Down/Up Ratio', ' Average Packet Size', ' Avg Fwd Segment Size', ' Avg Bwd Segment Size', ' Fwd Header Length.1', 'Fwd Avg Bytes/Bulk', ' Fwd Avg Packets/Bulk', ' Fwd Avg Bulk Rate', ' Bwd Avg Bytes/Bulk', ' Bwd Avg Packets/Bulk', 'Bwd Avg Bulk Rate', 'Subflow Fwd Packets', ' Subflow Fwd Bytes', ' Subflow Bwd Packets', ' Subflow Bwd Bytes', 'Init_Win_bytes_forward', ' Init_Win_bytes_backward', ' act_data_pkt_fwd', ' min_seg_size_forward', 'Active Mean', ' Active Std', ' Active Max', ' Active Min', 'Idle Mean', ' Idle Std', ' Idle Max', ' Idle Min', ' Label']\n"
          ]
        }
      ]
    },
    {
      "cell_type": "code",
      "source": [
        "data.columns = data.columns.str.strip()\n"
      ],
      "metadata": {
        "id": "f7MkWHLypHZr"
      },
      "execution_count": null,
      "outputs": []
    },
    {
      "cell_type": "code",
      "source": [
        "print(data.columns.tolist())\n"
      ],
      "metadata": {
        "colab": {
          "base_uri": "https://localhost:8080/"
        },
        "id": "bWTSFvD2pLzd",
        "outputId": "fde9cc66-7b36-4c30-a1a7-fd705084cee6"
      },
      "execution_count": null,
      "outputs": [
        {
          "output_type": "stream",
          "name": "stdout",
          "text": [
            "['Destination Port', 'Flow Duration', 'Total Fwd Packets', 'Total Backward Packets', 'Total Length of Fwd Packets', 'Total Length of Bwd Packets', 'Fwd Packet Length Max', 'Fwd Packet Length Min', 'Fwd Packet Length Mean', 'Fwd Packet Length Std', 'Bwd Packet Length Max', 'Bwd Packet Length Min', 'Bwd Packet Length Mean', 'Bwd Packet Length Std', 'Flow Bytes/s', 'Flow Packets/s', 'Flow IAT Mean', 'Flow IAT Std', 'Flow IAT Max', 'Flow IAT Min', 'Fwd IAT Total', 'Fwd IAT Mean', 'Fwd IAT Std', 'Fwd IAT Max', 'Fwd IAT Min', 'Bwd IAT Total', 'Bwd IAT Mean', 'Bwd IAT Std', 'Bwd IAT Max', 'Bwd IAT Min', 'Fwd PSH Flags', 'Bwd PSH Flags', 'Fwd URG Flags', 'Bwd URG Flags', 'Fwd Header Length', 'Bwd Header Length', 'Fwd Packets/s', 'Bwd Packets/s', 'Min Packet Length', 'Max Packet Length', 'Packet Length Mean', 'Packet Length Std', 'Packet Length Variance', 'FIN Flag Count', 'SYN Flag Count', 'RST Flag Count', 'PSH Flag Count', 'ACK Flag Count', 'URG Flag Count', 'CWE Flag Count', 'ECE Flag Count', 'Down/Up Ratio', 'Average Packet Size', 'Avg Fwd Segment Size', 'Avg Bwd Segment Size', 'Fwd Header Length.1', 'Fwd Avg Bytes/Bulk', 'Fwd Avg Packets/Bulk', 'Fwd Avg Bulk Rate', 'Bwd Avg Bytes/Bulk', 'Bwd Avg Packets/Bulk', 'Bwd Avg Bulk Rate', 'Subflow Fwd Packets', 'Subflow Fwd Bytes', 'Subflow Bwd Packets', 'Subflow Bwd Bytes', 'Init_Win_bytes_forward', 'Init_Win_bytes_backward', 'act_data_pkt_fwd', 'min_seg_size_forward', 'Active Mean', 'Active Std', 'Active Max', 'Active Min', 'Idle Mean', 'Idle Std', 'Idle Max', 'Idle Min', 'Label']\n"
          ]
        }
      ]
    },
    {
      "cell_type": "code",
      "source": [
        "# Encode categorical columns and remove any non-numeric columns as necessary\n",
        "categorical_cols = ['Destination Port', 'Total Fwd Packets']\n",
        "for col in categorical_cols:\n",
        "    le = LabelEncoder()\n",
        "    data[col] = le.fit_transform(data[col])\n"
      ],
      "metadata": {
        "id": "frNZPbCDnvZZ"
      },
      "execution_count": null,
      "outputs": []
    },
    {
      "cell_type": "code",
      "source": [
        "# Separate features and labels\n",
        "X = data.drop('Label', axis=1)\n",
        "y = data['Label'].apply(lambda x: 1 if x == 'Anomaly' else 0)  # Binary label: 1 for anomaly, 0 for normal\n",
        "\n"
      ],
      "metadata": {
        "id": "yIuutG5RpRm1"
      },
      "execution_count": null,
      "outputs": []
    },
    {
      "cell_type": "code",
      "source": [
        "# Split data into training and testing sets\n",
        "X_train, X_test, y_train, y_test = train_test_split(X, y, test_size=0.2, random_state=42)\n",
        "\n"
      ],
      "metadata": {
        "id": "zR4GAOBcpcGq"
      },
      "execution_count": null,
      "outputs": []
    },
    {
      "cell_type": "code",
      "source": [
        "# Check for NaN and infinite values\n",
        "print(\"Checking for NaN values in training data:\")\n",
        "print(X_train.isnull().sum())\n",
        "print(\"Checking for infinite values in training data:\")\n",
        "print(np.isinf(X_train).sum())\n",
        "\n"
      ],
      "metadata": {
        "colab": {
          "base_uri": "https://localhost:8080/"
        },
        "id": "dJPzPn1kp5P8",
        "outputId": "70d0b62d-6947-426a-c4a4-db11b3bd91b0"
      },
      "execution_count": null,
      "outputs": [
        {
          "output_type": "stream",
          "name": "stdout",
          "text": [
            "Checking for NaN values in training data:\n",
            "Destination Port               0\n",
            "Flow Duration                  0\n",
            "Total Fwd Packets              0\n",
            "Total Backward Packets         0\n",
            "Total Length of Fwd Packets    0\n",
            "                              ..\n",
            "Active Min                     1\n",
            "Idle Mean                      1\n",
            "Idle Std                       1\n",
            "Idle Max                       1\n",
            "Idle Min                       1\n",
            "Length: 78, dtype: int64\n",
            "Checking for infinite values in training data:\n",
            "Destination Port               0\n",
            "Flow Duration                  0\n",
            "Total Fwd Packets              0\n",
            "Total Backward Packets         0\n",
            "Total Length of Fwd Packets    0\n",
            "                              ..\n",
            "Active Min                     0\n",
            "Idle Mean                      0\n",
            "Idle Std                       0\n",
            "Idle Max                       0\n",
            "Idle Min                       0\n",
            "Length: 78, dtype: int64\n"
          ]
        }
      ]
    },
    {
      "cell_type": "code",
      "source": [
        "# Handle NaN and infinite values\n",
        "X_train.replace([np.inf, -np.inf], np.nan, inplace=True)\n",
        "X_test.replace([np.inf, -np.inf], np.nan, inplace=True)\n",
        "\n"
      ],
      "metadata": {
        "id": "nEAFMbHyp7U0"
      },
      "execution_count": null,
      "outputs": []
    },
    {
      "cell_type": "code",
      "source": [
        "# Fill NaN values with the mean of each column\n",
        "X_train.fillna(X_train.mean(), inplace=True)\n",
        "X_test.fillna(X_test.mean(), inplace=True)\n",
        "\n"
      ],
      "metadata": {
        "id": "CL_85nnep9gQ"
      },
      "execution_count": null,
      "outputs": []
    },
    {
      "cell_type": "code",
      "source": [
        "# Standardize the data based on training data\n",
        "scaler = StandardScaler()\n",
        "X_train_scaled = scaler.fit_transform(X_train)\n",
        "X_test_scaled = scaler.transform(X_test)\n",
        "\n",
        "print(\"Standardization completed successfully.\")"
      ],
      "metadata": {
        "colab": {
          "base_uri": "https://localhost:8080/"
        },
        "id": "oucIloIdqAJW",
        "outputId": "94610c19-3fb0-4e2d-915a-cc225ba2f415"
      },
      "execution_count": null,
      "outputs": [
        {
          "output_type": "stream",
          "name": "stdout",
          "text": [
            "Standardization completed successfully.\n"
          ]
        }
      ]
    },
    {
      "cell_type": "code",
      "source": [
        "\n",
        "# Use only normal (non-anomaly) data to train the autoencoder\n",
        "X_train_normal = X_train_scaled[y_train == 0]"
      ],
      "metadata": {
        "id": "PQlmyF98peVg"
      },
      "execution_count": null,
      "outputs": []
    },
    {
      "cell_type": "code",
      "source": [
        "# Autoencoder Model for feature extraction\n",
        "input_dim = X_train_normal.shape[1]\n",
        "encoding_dim = 14"
      ],
      "metadata": {
        "id": "PgutZpmIqNNF"
      },
      "execution_count": null,
      "outputs": []
    },
    {
      "cell_type": "code",
      "source": [
        " #Encoder part\n",
        "input_layer = Input(shape=(input_dim,))\n",
        "encoder = Dense(encoding_dim, activation='relu')(input_layer)\n",
        "encoder = Dense(7, activation='relu')(encoder)\n",
        "\n",
        "# Decoder part\n",
        "decoder = Dense(encoding_dim, activation='relu')(encoder)\n",
        "decoder = Dense(input_dim, activation='sigmoid')(decoder)\n",
        "\n",
        "# Autoencoder Model\n",
        "autoencoder = Model(inputs=input_layer, outputs=decoder)\n",
        "autoencoder.compile(optimizer='adam', loss='mse')"
      ],
      "metadata": {
        "id": "GelJfAYAqSBn"
      },
      "execution_count": null,
      "outputs": []
    },
    {
      "cell_type": "code",
      "source": [
        "# Train the Autoencoder\n",
        "history = autoencoder.fit(X_train_normal, X_train_normal,\n",
        "                          epochs=10,\n",
        "                          batch_size=32,\n",
        "                          validation_split=0.2)\n",
        "\n",
        "\n"
      ],
      "metadata": {
        "colab": {
          "base_uri": "https://localhost:8080/"
        },
        "id": "PTxP_UBoqVsB",
        "outputId": "351e3587-4e98-4a44-d48d-39bda2de4dbb"
      },
      "execution_count": null,
      "outputs": [
        {
          "output_type": "stream",
          "name": "stdout",
          "text": [
            "Epoch 1/10\n",
            "\u001b[1m3434/3434\u001b[0m \u001b[32m━━━━━━━━━━━━━━━━━━━━\u001b[0m\u001b[37m\u001b[0m \u001b[1m10s\u001b[0m 2ms/step - loss: 0.8250 - val_loss: 0.5225\n",
            "Epoch 2/10\n",
            "\u001b[1m3434/3434\u001b[0m \u001b[32m━━━━━━━━━━━━━━━━━━━━\u001b[0m\u001b[37m\u001b[0m \u001b[1m9s\u001b[0m 2ms/step - loss: 0.5653 - val_loss: 0.5148\n",
            "Epoch 3/10\n",
            "\u001b[1m3434/3434\u001b[0m \u001b[32m━━━━━━━━━━━━━━━━━━━━\u001b[0m\u001b[37m\u001b[0m \u001b[1m10s\u001b[0m 2ms/step - loss: 0.5993 - val_loss: 0.5113\n",
            "Epoch 4/10\n",
            "\u001b[1m3434/3434\u001b[0m \u001b[32m━━━━━━━━━━━━━━━━━━━━\u001b[0m\u001b[37m\u001b[0m \u001b[1m9s\u001b[0m 2ms/step - loss: 0.7808 - val_loss: 0.5106\n",
            "Epoch 5/10\n",
            "\u001b[1m3434/3434\u001b[0m \u001b[32m━━━━━━━━━━━━━━━━━━━━\u001b[0m\u001b[37m\u001b[0m \u001b[1m13s\u001b[0m 4ms/step - loss: 0.7330 - val_loss: 0.5091\n",
            "Epoch 6/10\n",
            "\u001b[1m3434/3434\u001b[0m \u001b[32m━━━━━━━━━━━━━━━━━━━━\u001b[0m\u001b[37m\u001b[0m \u001b[1m23s\u001b[0m 4ms/step - loss: 0.6332 - val_loss: 0.5087\n",
            "Epoch 7/10\n",
            "\u001b[1m3434/3434\u001b[0m \u001b[32m━━━━━━━━━━━━━━━━━━━━\u001b[0m\u001b[37m\u001b[0m \u001b[1m16s\u001b[0m 3ms/step - loss: 0.7834 - val_loss: 0.5084\n",
            "Epoch 8/10\n",
            "\u001b[1m3434/3434\u001b[0m \u001b[32m━━━━━━━━━━━━━━━━━━━━\u001b[0m\u001b[37m\u001b[0m \u001b[1m19s\u001b[0m 3ms/step - loss: 0.7334 - val_loss: 0.5087\n",
            "Epoch 9/10\n",
            "\u001b[1m3434/3434\u001b[0m \u001b[32m━━━━━━━━━━━━━━━━━━━━\u001b[0m\u001b[37m\u001b[0m \u001b[1m7s\u001b[0m 2ms/step - loss: 0.7731 - val_loss: 0.5083\n",
            "Epoch 10/10\n",
            "\u001b[1m3434/3434\u001b[0m \u001b[32m━━━━━━━━━━━━━━━━━━━━\u001b[0m\u001b[37m\u001b[0m \u001b[1m9s\u001b[0m 3ms/step - loss: 0.7128 - val_loss: 0.5078\n"
          ]
        }
      ]
    },
    {
      "cell_type": "code",
      "source": [
        "\n",
        "plt.plot(history.history['loss'])\n",
        "plt.plot(history.history['val_loss'])\n",
        "plt.title('Model Loss')\n",
        "plt.ylabel('Loss')\n",
        "plt.xlabel('Epoch')\n",
        "plt.legend(['Train', 'Validation'], loc='upper right')\n",
        "plt.show()"
      ],
      "metadata": {
        "colab": {
          "base_uri": "https://localhost:8080/",
          "height": 472
        },
        "id": "bJYqTDppqvkG",
        "outputId": "aaf52e18-fca1-4c49-c963-a585b5f98d81"
      },
      "execution_count": null,
      "outputs": [
        {
          "output_type": "display_data",
          "data": {
            "text/plain": [
              "<Figure size 640x480 with 1 Axes>"
            ],
            "image/png": "[encoded data removed]"
          },
          "metadata": {}
        }
      ]
    },
    {
      "cell_type": "code",
      "source": [
        "# Use encoder part for feature extraction\n",
        "encoder_model = Model(inputs=input_layer, outputs=encoder)\n",
        "X_train_encoded = encoder_model.predict(X_train_scaled)\n",
        "X_test_encoded = encoder_model.predict(X_test_scaled)"
      ],
      "metadata": {
        "colab": {
          "base_uri": "https://localhost:8080/"
        },
        "id": "nFAJbBFvqaif",
        "outputId": "540ebd8b-aa70-4747-bd0e-dac034b62a1a"
      },
      "execution_count": null,
      "outputs": [
        {
          "output_type": "stream",
          "name": "stdout",
          "text": [
            "\u001b[1m4292/4292\u001b[0m \u001b[32m━━━━━━━━━━━━━━━━━━━━\u001b[0m\u001b[37m\u001b[0m \u001b[1m5s\u001b[0m 1ms/step\n",
            "\u001b[1m1074/1074\u001b[0m \u001b[32m━━━━━━━━━━━━━━━━━━━━\u001b[0m\u001b[37m\u001b[0m \u001b[1m3s\u001b[0m 3ms/step\n"
          ]
        }
      ]
    },
    {
      "cell_type": "code",
      "source": [
        "# MLP Model for classification\n",
        "mlp_model = Sequential([\n",
        "    Dense(64, input_dim=X_train_encoded.shape[1], activation='relu'),\n",
        "    Dense(32, activation='relu'),\n",
        "    Dense(16, activation='relu'),\n",
        "    Dense(1, activation='sigmoid')\n",
        "])\n",
        "\n",
        "\n"
      ],
      "metadata": {
        "colab": {
          "base_uri": "https://localhost:8080/"
        },
        "id": "4aV0qXj0qkOg",
        "outputId": "883491e6-763a-48ab-deb3-d74412c5133b"
      },
      "execution_count": null,
      "outputs": [
        {
          "output_type": "stream",
          "name": "stderr",
          "text": [
            "/usr/local/lib/python3.10/dist-packages/keras/src/layers/core/dense.py:87: UserWarning: Do not pass an `input_shape`/`input_dim` argument to a layer. When using Sequential models, prefer using an `Input(shape)` object as the first layer in the model instead.\n",
            "  super().__init__(activity_regularizer=activity_regularizer, **kwargs)\n"
          ]
        }
      ]
    },
    {
      "cell_type": "code",
      "source": [
        "mlp_model.compile(optimizer='adam', loss='binary_crossentropy', metrics=['accuracy'])\n",
        "\n",
        "# Train the MLP on the encoded features\n",
        "mlp_history = mlp_model.fit(X_train_encoded, y_train,\n",
        "                            epochs=10,\n",
        "                            batch_size=32,\n",
        "                            validation_data=(X_test_encoded, y_test))\n",
        "\n"
      ],
      "metadata": {
        "colab": {
          "base_uri": "https://localhost:8080/"
        },
        "id": "Moo_Zs-1qpjU",
        "outputId": "02ee2e80-4924-4401-a19d-924a29a98daa"
      },
      "execution_count": null,
      "outputs": [
        {
          "output_type": "stream",
          "name": "stdout",
          "text": [
            "Epoch 1/10\n",
            "\u001b[1m4292/4292\u001b[0m \u001b[32m━━━━━━━━━━━━━━━━━━━━\u001b[0m\u001b[37m\u001b[0m \u001b[1m14s\u001b[0m 3ms/step - accuracy: 0.9906 - loss: 0.0263 - val_accuracy: 1.0000 - val_loss: 4.2079e-08\n",
            "Epoch 2/10\n",
            "\u001b[1m4292/4292\u001b[0m \u001b[32m━━━━━━━━━━━━━━━━━━━━\u001b[0m\u001b[37m\u001b[0m \u001b[1m26s\u001b[0m 4ms/step - accuracy: 1.0000 - loss: 2.8308e-08 - val_accuracy: 1.0000 - val_loss: 3.3486e-09\n",
            "Epoch 3/10\n",
            "\u001b[1m4292/4292\u001b[0m \u001b[32m━━━━━━━━━━━━━━━━━━━━\u001b[0m\u001b[37m\u001b[0m \u001b[1m7s\u001b[0m 2ms/step - accuracy: 1.0000 - loss: 6.1137e-09 - val_accuracy: 1.0000 - val_loss: 4.1368e-10\n",
            "Epoch 4/10\n",
            "\u001b[1m4292/4292\u001b[0m \u001b[32m━━━━━━━━━━━━━━━━━━━━\u001b[0m\u001b[37m\u001b[0m \u001b[1m10s\u001b[0m 2ms/step - accuracy: 1.0000 - loss: 4.3123e-10 - val_accuracy: 1.0000 - val_loss: 7.5882e-11\n",
            "Epoch 5/10\n",
            "\u001b[1m4292/4292\u001b[0m \u001b[32m━━━━━━━━━━━━━━━━━━━━\u001b[0m\u001b[37m\u001b[0m \u001b[1m9s\u001b[0m 2ms/step - accuracy: 1.0000 - loss: 1.2530e-10 - val_accuracy: 1.0000 - val_loss: 2.3733e-11\n",
            "Epoch 6/10\n",
            "\u001b[1m4292/4292\u001b[0m \u001b[32m━━━━━━━━━━━━━━━━━━━━\u001b[0m\u001b[37m\u001b[0m \u001b[1m7s\u001b[0m 2ms/step - accuracy: 1.0000 - loss: 5.0370e-11 - val_accuracy: 1.0000 - val_loss: 9.3235e-12\n",
            "Epoch 7/10\n",
            "\u001b[1m4292/4292\u001b[0m \u001b[32m━━━━━━━━━━━━━━━━━━━━\u001b[0m\u001b[37m\u001b[0m \u001b[1m9s\u001b[0m 2ms/step - accuracy: 1.0000 - loss: 4.7985e-11 - val_accuracy: 1.0000 - val_loss: 4.6550e-12\n",
            "Epoch 8/10\n",
            "\u001b[1m4292/4292\u001b[0m \u001b[32m━━━━━━━━━━━━━━━━━━━━\u001b[0m\u001b[37m\u001b[0m \u001b[1m11s\u001b[0m 2ms/step - accuracy: 1.0000 - loss: 8.2931e-12 - val_accuracy: 1.0000 - val_loss: 2.7820e-12\n",
            "Epoch 9/10\n",
            "\u001b[1m4292/4292\u001b[0m \u001b[32m━━━━━━━━━━━━━━━━━━━━\u001b[0m\u001b[37m\u001b[0m \u001b[1m7s\u001b[0m 2ms/step - accuracy: 1.0000 - loss: 1.2405e-11 - val_accuracy: 1.0000 - val_loss: 1.9161e-12\n",
            "Epoch 10/10\n",
            "\u001b[1m4292/4292\u001b[0m \u001b[32m━━━━━━━━━━━━━━━━━━━━\u001b[0m\u001b[37m\u001b[0m \u001b[1m14s\u001b[0m 3ms/step - accuracy: 1.0000 - loss: 9.4823e-12 - val_accuracy: 1.0000 - val_loss: 1.4354e-12\n"
          ]
        }
      ]
    },
    {
      "cell_type": "code",
      "source": [
        "# Evaluation on the test set\n",
        "y_pred = (mlp_model.predict(X_test_encoded) > 0.5).astype(int)\n",
        "print(\"Classification Report:\")\n",
        "print(classification_report(y_test, y_pred))\n",
        "print(\"Confusion Matrix:\")\n",
        "print(confusion_matrix(y_test, y_pred))\n"
      ],
      "metadata": {
        "colab": {
          "base_uri": "https://localhost:8080/"
        },
        "id": "0MYo_99BqrpG",
        "outputId": "f08a213e-563d-409e-cc7d-bf0efe018625"
      },
      "execution_count": null,
      "outputs": [
        {
          "output_type": "stream",
          "name": "stdout",
          "text": [
            "\u001b[1m1074/1074\u001b[0m \u001b[32m━━━━━━━━━━━━━━━━━━━━\u001b[0m\u001b[37m\u001b[0m \u001b[1m1s\u001b[0m 1ms/step\n",
            "Classification Report:\n",
            "              precision    recall  f1-score   support\n",
            "\n",
            "           0       1.00      1.00      1.00     34337\n",
            "\n",
            "    accuracy                           1.00     34337\n",
            "   macro avg       1.00      1.00      1.00     34337\n",
            "weighted avg       1.00      1.00      1.00     34337\n",
            "\n",
            "Confusion Matrix:\n",
            "[[34337]]\n"
          ]
        },
        {
          "output_type": "stream",
          "name": "stderr",
          "text": [
            "/usr/local/lib/python3.10/dist-packages/sklearn/metrics/_classification.py:409: UserWarning: A single label was found in 'y_true' and 'y_pred'. For the confusion matrix to have the correct shape, use the 'labels' parameter to pass all known labels.\n",
            "  warnings.warn(\n"
          ]
        }
      ]
    }
  ]
}